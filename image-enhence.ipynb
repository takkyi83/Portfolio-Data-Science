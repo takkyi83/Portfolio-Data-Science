{
 "cells": [
  {
   "cell_type": "code",
   "execution_count": 3,
   "metadata": {},
   "outputs": [],
   "source": [
    "from PIL import Image\n",
    "\n",
    "def upscale_image(image_path, scale_factor):\n",
    "    # Open the image file\n",
    "    image = Image.open('header2.1.jpg')\n",
    "\n",
    "    # Get the original width and height\n",
    "    original_width, original_height = image.size\n",
    "\n",
    "    # Calculate the new width and height based on the scale factor\n",
    "    new_width = int(original_width * scale_factor)\n",
    "    new_height = int(original_height * scale_factor)\n",
    "\n",
    "    # Resize the image using the new dimensions\n",
    "    upscaled_image = image.resize((new_width, new_height), Image.BICUBIC)\n",
    "\n",
    "    # Return the upscaled image\n",
    "    return upscaled_image\n",
    "\n",
    "# Specify the path to the input image\n",
    "input_image_path = 'header2.1.jpg'\n",
    "\n",
    "# Specify the scale factor for upscaling (e.g., 2 for doubling the size)\n",
    "scale_factor = 2\n",
    "\n",
    "# Upscale the image\n",
    "upscaled_image = upscale_image(input_image_path, scale_factor)\n",
    "\n",
    "# Save the upscaled image\n",
    "upscaled_image.save('header2.1output.jpg')\n"
   ]
  },
  {
   "cell_type": "code",
   "execution_count": null,
   "metadata": {},
   "outputs": [],
   "source": []
  }
 ],
 "metadata": {
  "kernelspec": {
   "display_name": "Python 3",
   "language": "python",
   "name": "python3"
  },
  "language_info": {
   "codemirror_mode": {
    "name": "ipython",
    "version": 3
   },
   "file_extension": ".py",
   "mimetype": "text/x-python",
   "name": "python",
   "nbconvert_exporter": "python",
   "pygments_lexer": "ipython3",
   "version": "3.8.3"
  }
 },
 "nbformat": 4,
 "nbformat_minor": 5
}
